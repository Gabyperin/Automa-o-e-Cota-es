{
 "cells": [
  {
   "cell_type": "markdown",
   "metadata": {},
   "source": [
    "# Site que fornece notícias sobre finanças, incluindo cotações de ações.\n",
    "## Link: https://br.financas.yahoo.com/\n",
    "### Ticker - codigo de uma ação\n",
    "### Exemplos de Codigo de ação:\n",
    "### Empresa Cisco - CSCO34.SA\n",
    "### Empresa Banco Bradesco - BBDC3.SA\n",
    "### Empresa Banco Santander - SANB11.SA"
   ]
  },
  {
   "cell_type": "markdown",
   "metadata": {},
   "source": [
    "## Instalar a Biblioteca"
   ]
  },
  {
   "cell_type": "code",
   "execution_count": 2,
   "metadata": {},
   "outputs": [],
   "source": [
    "import yfinance"
   ]
  },
  {
   "cell_type": "markdown",
   "metadata": {},
   "source": [
    "## Empresa Banco Bradesco - Finanças e Cotações de Ações "
   ]
  },
  {
   "cell_type": "code",
   "execution_count": 39,
   "metadata": {},
   "outputs": [
    {
     "data": {
      "text/html": [
       "<div>\n",
       "<style scoped>\n",
       "    .dataframe tbody tr th:only-of-type {\n",
       "        vertical-align: middle;\n",
       "    }\n",
       "\n",
       "    .dataframe tbody tr th {\n",
       "        vertical-align: top;\n",
       "    }\n",
       "\n",
       "    .dataframe thead th {\n",
       "        text-align: right;\n",
       "    }\n",
       "</style>\n",
       "<table border=\"1\" class=\"dataframe\">\n",
       "  <thead>\n",
       "    <tr style=\"text-align: right;\">\n",
       "      <th></th>\n",
       "      <th>Open</th>\n",
       "      <th>High</th>\n",
       "      <th>Low</th>\n",
       "      <th>Close</th>\n",
       "      <th>Volume</th>\n",
       "      <th>Dividends</th>\n",
       "      <th>Stock Splits</th>\n",
       "    </tr>\n",
       "    <tr>\n",
       "      <th>Date</th>\n",
       "      <th></th>\n",
       "      <th></th>\n",
       "      <th></th>\n",
       "      <th></th>\n",
       "      <th></th>\n",
       "      <th></th>\n",
       "      <th></th>\n",
       "    </tr>\n",
       "  </thead>\n",
       "  <tbody>\n",
       "    <tr>\n",
       "      <th>2023-08-21 00:00:00-03:00</th>\n",
       "      <td>12.806764</td>\n",
       "      <td>12.864583</td>\n",
       "      <td>12.739310</td>\n",
       "      <td>12.826037</td>\n",
       "      <td>3923900</td>\n",
       "      <td>0.0</td>\n",
       "      <td>0.0</td>\n",
       "    </tr>\n",
       "    <tr>\n",
       "      <th>2023-08-22 00:00:00-03:00</th>\n",
       "      <td>12.845310</td>\n",
       "      <td>12.932038</td>\n",
       "      <td>12.797128</td>\n",
       "      <td>12.912765</td>\n",
       "      <td>4969600</td>\n",
       "      <td>0.0</td>\n",
       "      <td>0.0</td>\n",
       "    </tr>\n",
       "    <tr>\n",
       "      <th>2023-08-23 00:00:00-03:00</th>\n",
       "      <td>12.864583</td>\n",
       "      <td>13.057311</td>\n",
       "      <td>12.864583</td>\n",
       "      <td>13.057311</td>\n",
       "      <td>6252000</td>\n",
       "      <td>0.0</td>\n",
       "      <td>0.0</td>\n",
       "    </tr>\n",
       "    <tr>\n",
       "      <th>2023-08-24 00:00:00-03:00</th>\n",
       "      <td>13.018764</td>\n",
       "      <td>13.028401</td>\n",
       "      <td>12.758581</td>\n",
       "      <td>12.797127</td>\n",
       "      <td>5801600</td>\n",
       "      <td>0.0</td>\n",
       "      <td>0.0</td>\n",
       "    </tr>\n",
       "    <tr>\n",
       "      <th>2023-08-25 00:00:00-03:00</th>\n",
       "      <td>12.806763</td>\n",
       "      <td>12.854946</td>\n",
       "      <td>12.604399</td>\n",
       "      <td>12.729672</td>\n",
       "      <td>3065400</td>\n",
       "      <td>0.0</td>\n",
       "      <td>0.0</td>\n",
       "    </tr>\n",
       "    <tr>\n",
       "      <th>...</th>\n",
       "      <td>...</td>\n",
       "      <td>...</td>\n",
       "      <td>...</td>\n",
       "      <td>...</td>\n",
       "      <td>...</td>\n",
       "      <td>...</td>\n",
       "      <td>...</td>\n",
       "    </tr>\n",
       "    <tr>\n",
       "      <th>2024-02-09 00:00:00-03:00</th>\n",
       "      <td>12.630000</td>\n",
       "      <td>12.640000</td>\n",
       "      <td>12.180000</td>\n",
       "      <td>12.400000</td>\n",
       "      <td>15144900</td>\n",
       "      <td>0.0</td>\n",
       "      <td>0.0</td>\n",
       "    </tr>\n",
       "    <tr>\n",
       "      <th>2024-02-14 00:00:00-03:00</th>\n",
       "      <td>12.370000</td>\n",
       "      <td>12.430000</td>\n",
       "      <td>12.090000</td>\n",
       "      <td>12.240000</td>\n",
       "      <td>15057600</td>\n",
       "      <td>0.0</td>\n",
       "      <td>0.0</td>\n",
       "    </tr>\n",
       "    <tr>\n",
       "      <th>2024-02-15 00:00:00-03:00</th>\n",
       "      <td>12.300000</td>\n",
       "      <td>12.440000</td>\n",
       "      <td>12.170000</td>\n",
       "      <td>12.220000</td>\n",
       "      <td>17881300</td>\n",
       "      <td>0.0</td>\n",
       "      <td>0.0</td>\n",
       "    </tr>\n",
       "    <tr>\n",
       "      <th>2024-02-16 00:00:00-03:00</th>\n",
       "      <td>12.300000</td>\n",
       "      <td>12.350000</td>\n",
       "      <td>12.120000</td>\n",
       "      <td>12.280000</td>\n",
       "      <td>11881800</td>\n",
       "      <td>0.0</td>\n",
       "      <td>0.0</td>\n",
       "    </tr>\n",
       "    <tr>\n",
       "      <th>2024-02-19 00:00:00-03:00</th>\n",
       "      <td>12.300000</td>\n",
       "      <td>12.360000</td>\n",
       "      <td>12.170000</td>\n",
       "      <td>12.290000</td>\n",
       "      <td>4174100</td>\n",
       "      <td>0.0</td>\n",
       "      <td>0.0</td>\n",
       "    </tr>\n",
       "  </tbody>\n",
       "</table>\n",
       "<p>122 rows × 7 columns</p>\n",
       "</div>"
      ],
      "text/plain": [
       "                                Open       High        Low      Close  \\\n",
       "Date                                                                    \n",
       "2023-08-21 00:00:00-03:00  12.806764  12.864583  12.739310  12.826037   \n",
       "2023-08-22 00:00:00-03:00  12.845310  12.932038  12.797128  12.912765   \n",
       "2023-08-23 00:00:00-03:00  12.864583  13.057311  12.864583  13.057311   \n",
       "2023-08-24 00:00:00-03:00  13.018764  13.028401  12.758581  12.797127   \n",
       "2023-08-25 00:00:00-03:00  12.806763  12.854946  12.604399  12.729672   \n",
       "...                              ...        ...        ...        ...   \n",
       "2024-02-09 00:00:00-03:00  12.630000  12.640000  12.180000  12.400000   \n",
       "2024-02-14 00:00:00-03:00  12.370000  12.430000  12.090000  12.240000   \n",
       "2024-02-15 00:00:00-03:00  12.300000  12.440000  12.170000  12.220000   \n",
       "2024-02-16 00:00:00-03:00  12.300000  12.350000  12.120000  12.280000   \n",
       "2024-02-19 00:00:00-03:00  12.300000  12.360000  12.170000  12.290000   \n",
       "\n",
       "                             Volume  Dividends  Stock Splits  \n",
       "Date                                                          \n",
       "2023-08-21 00:00:00-03:00   3923900        0.0           0.0  \n",
       "2023-08-22 00:00:00-03:00   4969600        0.0           0.0  \n",
       "2023-08-23 00:00:00-03:00   6252000        0.0           0.0  \n",
       "2023-08-24 00:00:00-03:00   5801600        0.0           0.0  \n",
       "2023-08-25 00:00:00-03:00   3065400        0.0           0.0  \n",
       "...                             ...        ...           ...  \n",
       "2024-02-09 00:00:00-03:00  15144900        0.0           0.0  \n",
       "2024-02-14 00:00:00-03:00  15057600        0.0           0.0  \n",
       "2024-02-15 00:00:00-03:00  17881300        0.0           0.0  \n",
       "2024-02-16 00:00:00-03:00  11881800        0.0           0.0  \n",
       "2024-02-19 00:00:00-03:00   4174100        0.0           0.0  \n",
       "\n",
       "[122 rows x 7 columns]"
      ]
     },
     "execution_count": 39,
     "metadata": {},
     "output_type": "execute_result"
    }
   ],
   "source": [
    "# Bradesco\n",
    "ticker = \"BBDC3.SA\"\n",
    "dados = yfinance.Ticker(ticker)\n",
    "tabela = dados.history(\"6mo\")\n",
    "tabela"
   ]
  },
  {
   "cell_type": "code",
   "execution_count": 40,
   "metadata": {},
   "outputs": [
    {
     "data": {
      "text/plain": [
       "Date\n",
       "2023-08-21 00:00:00-03:00    12.826037\n",
       "2023-08-22 00:00:00-03:00    12.912765\n",
       "2023-08-23 00:00:00-03:00    13.057311\n",
       "2023-08-24 00:00:00-03:00    12.797127\n",
       "2023-08-25 00:00:00-03:00    12.729672\n",
       "                               ...    \n",
       "2024-02-09 00:00:00-03:00    12.400000\n",
       "2024-02-14 00:00:00-03:00    12.240000\n",
       "2024-02-15 00:00:00-03:00    12.220000\n",
       "2024-02-16 00:00:00-03:00    12.280000\n",
       "2024-02-19 00:00:00-03:00    12.290000\n",
       "Name: Close, Length: 122, dtype: float64"
      ]
     },
     "execution_count": 40,
     "metadata": {},
     "output_type": "execute_result"
    }
   ],
   "source": [
    "fechamento = tabela.Close\n",
    "fechamento"
   ]
  },
  {
   "cell_type": "code",
   "execution_count": 41,
   "metadata": {},
   "outputs": [
    {
     "data": {
      "text/plain": [
       "<Axes: xlabel='Date'>"
      ]
     },
     "execution_count": 41,
     "metadata": {},
     "output_type": "execute_result"
    },
    {
     "data": {
      "image/png": "[encoded data removed]",
      "text/plain": [
       "<Figure size 640x480 with 1 Axes>"
      ]
     },
     "metadata": {},
     "output_type": "display_data"
    }
   ],
   "source": [
    "fechamento.plot()"
   ]
  },
  {
   "cell_type": "code",
   "execution_count": 42,
   "metadata": {},
   "outputs": [
    {
     "name": "stdout",
     "output_type": "stream",
     "text": [
      "15.24339485168457\n",
      "11.839311599731445\n",
      "12.289999961853027\n"
     ]
    },
    {
     "name": "stderr",
     "output_type": "stream",
     "text": [
      "C:\\Users\\Usuário\\AppData\\Local\\Temp\\ipykernel_13820\\1687702422.py:3: FutureWarning: Series.__getitem__ treating keys as positions is deprecated. In a future version, integer keys will always be treated as labels (consistent with DataFrame behavior). To access a value by position, use `ser.iloc[pos]`\n",
      "  atual = fechamento[-1]\n"
     ]
    }
   ],
   "source": [
    "maxima = fechamento.max()\n",
    "minima = fechamento.min()\n",
    "atual = fechamento[-1]\n",
    "print(maxima)\n",
    "print(minima)\n",
    "print(atual)"
   ]
  },
  {
   "cell_type": "markdown",
   "metadata": {},
   "source": [
    "## Empresa Cisco - Finanças e Cotações de Ações "
   ]
  },
  {
   "cell_type": "code",
   "execution_count": 23,
   "metadata": {},
   "outputs": [
    {
     "data": {
      "text/html": [
       "<div>\n",
       "<style scoped>\n",
       "    .dataframe tbody tr th:only-of-type {\n",
       "        vertical-align: middle;\n",
       "    }\n",
       "\n",
       "    .dataframe tbody tr th {\n",
       "        vertical-align: top;\n",
       "    }\n",
       "\n",
       "    .dataframe thead th {\n",
       "        text-align: right;\n",
       "    }\n",
       "</style>\n",
       "<table border=\"1\" class=\"dataframe\">\n",
       "  <thead>\n",
       "    <tr style=\"text-align: right;\">\n",
       "      <th></th>\n",
       "      <th>Open</th>\n",
       "      <th>High</th>\n",
       "      <th>Low</th>\n",
       "      <th>Close</th>\n",
       "      <th>Volume</th>\n",
       "      <th>Dividends</th>\n",
       "      <th>Stock Splits</th>\n",
       "    </tr>\n",
       "    <tr>\n",
       "      <th>Date</th>\n",
       "      <th></th>\n",
       "      <th></th>\n",
       "      <th></th>\n",
       "      <th></th>\n",
       "      <th></th>\n",
       "      <th></th>\n",
       "      <th></th>\n",
       "    </tr>\n",
       "  </thead>\n",
       "  <tbody>\n",
       "    <tr>\n",
       "      <th>2023-08-21 00:00:00-03:00</th>\n",
       "      <td>54.433316</td>\n",
       "      <td>54.848987</td>\n",
       "      <td>54.413522</td>\n",
       "      <td>54.740124</td>\n",
       "      <td>2094</td>\n",
       "      <td>0.0</td>\n",
       "      <td>0.0</td>\n",
       "    </tr>\n",
       "    <tr>\n",
       "      <th>2023-08-22 00:00:00-03:00</th>\n",
       "      <td>54.532283</td>\n",
       "      <td>54.532283</td>\n",
       "      <td>54.136407</td>\n",
       "      <td>54.324448</td>\n",
       "      <td>1034</td>\n",
       "      <td>0.0</td>\n",
       "      <td>0.0</td>\n",
       "    </tr>\n",
       "    <tr>\n",
       "      <th>2023-08-23 00:00:00-03:00</th>\n",
       "      <td>53.968158</td>\n",
       "      <td>53.968158</td>\n",
       "      <td>53.879086</td>\n",
       "      <td>53.879086</td>\n",
       "      <td>415</td>\n",
       "      <td>0.0</td>\n",
       "      <td>0.0</td>\n",
       "    </tr>\n",
       "    <tr>\n",
       "      <th>2023-08-24 00:00:00-03:00</th>\n",
       "      <td>53.453514</td>\n",
       "      <td>53.631660</td>\n",
       "      <td>53.453514</td>\n",
       "      <td>53.493103</td>\n",
       "      <td>194</td>\n",
       "      <td>0.0</td>\n",
       "      <td>0.0</td>\n",
       "    </tr>\n",
       "    <tr>\n",
       "      <th>2023-08-25 00:00:00-03:00</th>\n",
       "      <td>54.433320</td>\n",
       "      <td>54.433320</td>\n",
       "      <td>53.433728</td>\n",
       "      <td>53.710842</td>\n",
       "      <td>11</td>\n",
       "      <td>0.0</td>\n",
       "      <td>0.0</td>\n",
       "    </tr>\n",
       "    <tr>\n",
       "      <th>...</th>\n",
       "      <td>...</td>\n",
       "      <td>...</td>\n",
       "      <td>...</td>\n",
       "      <td>...</td>\n",
       "      <td>...</td>\n",
       "      <td>...</td>\n",
       "      <td>...</td>\n",
       "    </tr>\n",
       "    <tr>\n",
       "      <th>2024-02-09 00:00:00-03:00</th>\n",
       "      <td>49.830002</td>\n",
       "      <td>49.900002</td>\n",
       "      <td>49.450001</td>\n",
       "      <td>49.529999</td>\n",
       "      <td>2857</td>\n",
       "      <td>0.0</td>\n",
       "      <td>0.0</td>\n",
       "    </tr>\n",
       "    <tr>\n",
       "      <th>2024-02-14 00:00:00-03:00</th>\n",
       "      <td>49.750000</td>\n",
       "      <td>49.880001</td>\n",
       "      <td>49.599998</td>\n",
       "      <td>49.650002</td>\n",
       "      <td>102</td>\n",
       "      <td>0.0</td>\n",
       "      <td>0.0</td>\n",
       "    </tr>\n",
       "    <tr>\n",
       "      <th>2024-02-15 00:00:00-03:00</th>\n",
       "      <td>48.880001</td>\n",
       "      <td>49.490002</td>\n",
       "      <td>47.799999</td>\n",
       "      <td>48.880001</td>\n",
       "      <td>992</td>\n",
       "      <td>0.0</td>\n",
       "      <td>0.0</td>\n",
       "    </tr>\n",
       "    <tr>\n",
       "      <th>2024-02-16 00:00:00-03:00</th>\n",
       "      <td>49.849998</td>\n",
       "      <td>49.849998</td>\n",
       "      <td>48.330002</td>\n",
       "      <td>48.700001</td>\n",
       "      <td>560</td>\n",
       "      <td>0.0</td>\n",
       "      <td>0.0</td>\n",
       "    </tr>\n",
       "    <tr>\n",
       "      <th>2024-02-19 00:00:00-03:00</th>\n",
       "      <td>50.000000</td>\n",
       "      <td>50.490002</td>\n",
       "      <td>47.810001</td>\n",
       "      <td>48.400002</td>\n",
       "      <td>96</td>\n",
       "      <td>0.0</td>\n",
       "      <td>0.0</td>\n",
       "    </tr>\n",
       "  </tbody>\n",
       "</table>\n",
       "<p>122 rows × 7 columns</p>\n",
       "</div>"
      ],
      "text/plain": [
       "                                Open       High        Low      Close  Volume  \\\n",
       "Date                                                                            \n",
       "2023-08-21 00:00:00-03:00  54.433316  54.848987  54.413522  54.740124    2094   \n",
       "2023-08-22 00:00:00-03:00  54.532283  54.532283  54.136407  54.324448    1034   \n",
       "2023-08-23 00:00:00-03:00  53.968158  53.968158  53.879086  53.879086     415   \n",
       "2023-08-24 00:00:00-03:00  53.453514  53.631660  53.453514  53.493103     194   \n",
       "2023-08-25 00:00:00-03:00  54.433320  54.433320  53.433728  53.710842      11   \n",
       "...                              ...        ...        ...        ...     ...   \n",
       "2024-02-09 00:00:00-03:00  49.830002  49.900002  49.450001  49.529999    2857   \n",
       "2024-02-14 00:00:00-03:00  49.750000  49.880001  49.599998  49.650002     102   \n",
       "2024-02-15 00:00:00-03:00  48.880001  49.490002  47.799999  48.880001     992   \n",
       "2024-02-16 00:00:00-03:00  49.849998  49.849998  48.330002  48.700001     560   \n",
       "2024-02-19 00:00:00-03:00  50.000000  50.490002  47.810001  48.400002      96   \n",
       "\n",
       "                           Dividends  Stock Splits  \n",
       "Date                                                \n",
       "2023-08-21 00:00:00-03:00        0.0           0.0  \n",
       "2023-08-22 00:00:00-03:00        0.0           0.0  \n",
       "2023-08-23 00:00:00-03:00        0.0           0.0  \n",
       "2023-08-24 00:00:00-03:00        0.0           0.0  \n",
       "2023-08-25 00:00:00-03:00        0.0           0.0  \n",
       "...                              ...           ...  \n",
       "2024-02-09 00:00:00-03:00        0.0           0.0  \n",
       "2024-02-14 00:00:00-03:00        0.0           0.0  \n",
       "2024-02-15 00:00:00-03:00        0.0           0.0  \n",
       "2024-02-16 00:00:00-03:00        0.0           0.0  \n",
       "2024-02-19 00:00:00-03:00        0.0           0.0  \n",
       "\n",
       "[122 rows x 7 columns]"
      ]
     },
     "execution_count": 23,
     "metadata": {},
     "output_type": "execute_result"
    }
   ],
   "source": [
    "# Cisco \n",
    "ticker = \"CSCO34.SA\"\n",
    "dados = yfinance.Ticker(ticker)\n",
    "tabela2 = dados.history(\"6mo\") # 6 meses\n",
    "tabela2"
   ]
  },
  {
   "cell_type": "code",
   "execution_count": 24,
   "metadata": {},
   "outputs": [
    {
     "data": {
      "text/plain": [
       "Date\n",
       "2023-08-21 00:00:00-03:00    54.740124\n",
       "2023-08-22 00:00:00-03:00    54.324448\n",
       "2023-08-23 00:00:00-03:00    53.879086\n",
       "2023-08-24 00:00:00-03:00    53.493103\n",
       "2023-08-25 00:00:00-03:00    53.710842\n",
       "                               ...    \n",
       "2024-02-09 00:00:00-03:00    49.529999\n",
       "2024-02-14 00:00:00-03:00    49.650002\n",
       "2024-02-15 00:00:00-03:00    48.880001\n",
       "2024-02-16 00:00:00-03:00    48.700001\n",
       "2024-02-19 00:00:00-03:00    48.400002\n",
       "Name: Close, Length: 122, dtype: float64"
      ]
     },
     "execution_count": 24,
     "metadata": {},
     "output_type": "execute_result"
    }
   ],
   "source": [
    "fechamento2 = tabela2.Close\n",
    "fechamento2"
   ]
  },
  {
   "cell_type": "code",
   "execution_count": 35,
   "metadata": {},
   "outputs": [
    {
     "data": {
      "text/plain": [
       "<Axes: xlabel='Date'>"
      ]
     },
     "execution_count": 35,
     "metadata": {},
     "output_type": "execute_result"
    },
    {
     "data": {
      "image/png": "[encoded data removed]",
      "text/plain": [
       "<Figure size 640x480 with 1 Axes>"
      ]
     },
     "metadata": {},
     "output_type": "display_data"
    }
   ],
   "source": [
    "fechamento2.plot()"
   ]
  },
  {
   "cell_type": "code",
   "execution_count": 34,
   "metadata": {},
   "outputs": [
    {
     "name": "stdout",
     "output_type": "stream",
     "text": [
      "56.51167678833008\n",
      "46.300636291503906\n",
      "48.400001525878906\n"
     ]
    },
    {
     "name": "stderr",
     "output_type": "stream",
     "text": [
      "C:\\Users\\Usuário\\AppData\\Local\\Temp\\ipykernel_13820\\2473702919.py:3: FutureWarning: Series.__getitem__ treating keys as positions is deprecated. In a future version, integer keys will always be treated as labels (consistent with DataFrame behavior). To access a value by position, use `ser.iloc[pos]`\n",
      "  atual = fechamento2[-1]\n"
     ]
    }
   ],
   "source": [
    "maxima = fechamento2.max()\n",
    "minima = fechamento2.min()\n",
    "atual = fechamento2[-1]\n",
    "print(maxima)\n",
    "print(minima)\n",
    "print(atual)"
   ]
  },
  {
   "cell_type": "markdown",
   "metadata": {},
   "source": [
    "## Empresa Banco Santander - Finanças e Cotações de Ações "
   ]
  },
  {
   "cell_type": "code",
   "execution_count": 26,
   "metadata": {},
   "outputs": [
    {
     "data": {
      "text/html": [
       "<div>\n",
       "<style scoped>\n",
       "    .dataframe tbody tr th:only-of-type {\n",
       "        vertical-align: middle;\n",
       "    }\n",
       "\n",
       "    .dataframe tbody tr th {\n",
       "        vertical-align: top;\n",
       "    }\n",
       "\n",
       "    .dataframe thead th {\n",
       "        text-align: right;\n",
       "    }\n",
       "</style>\n",
       "<table border=\"1\" class=\"dataframe\">\n",
       "  <thead>\n",
       "    <tr style=\"text-align: right;\">\n",
       "      <th></th>\n",
       "      <th>Open</th>\n",
       "      <th>High</th>\n",
       "      <th>Low</th>\n",
       "      <th>Close</th>\n",
       "      <th>Volume</th>\n",
       "      <th>Dividends</th>\n",
       "      <th>Stock Splits</th>\n",
       "    </tr>\n",
       "    <tr>\n",
       "      <th>Date</th>\n",
       "      <th></th>\n",
       "      <th></th>\n",
       "      <th></th>\n",
       "      <th></th>\n",
       "      <th></th>\n",
       "      <th></th>\n",
       "      <th></th>\n",
       "    </tr>\n",
       "  </thead>\n",
       "  <tbody>\n",
       "    <tr>\n",
       "      <th>2023-08-21 00:00:00-03:00</th>\n",
       "      <td>25.772671</td>\n",
       "      <td>25.772671</td>\n",
       "      <td>25.471405</td>\n",
       "      <td>25.578306</td>\n",
       "      <td>1290400</td>\n",
       "      <td>0.0</td>\n",
       "      <td>0.0</td>\n",
       "    </tr>\n",
       "    <tr>\n",
       "      <th>2023-08-22 00:00:00-03:00</th>\n",
       "      <td>25.665769</td>\n",
       "      <td>25.957315</td>\n",
       "      <td>25.636614</td>\n",
       "      <td>25.899006</td>\n",
       "      <td>1048100</td>\n",
       "      <td>0.0</td>\n",
       "      <td>0.0</td>\n",
       "    </tr>\n",
       "    <tr>\n",
       "      <th>2023-08-23 00:00:00-03:00</th>\n",
       "      <td>25.947599</td>\n",
       "      <td>26.258581</td>\n",
       "      <td>25.830979</td>\n",
       "      <td>26.190554</td>\n",
       "      <td>1322500</td>\n",
       "      <td>0.0</td>\n",
       "      <td>0.0</td>\n",
       "    </tr>\n",
       "    <tr>\n",
       "      <th>2023-08-24 00:00:00-03:00</th>\n",
       "      <td>26.268298</td>\n",
       "      <td>26.268298</td>\n",
       "      <td>25.879568</td>\n",
       "      <td>26.025343</td>\n",
       "      <td>1096000</td>\n",
       "      <td>0.0</td>\n",
       "      <td>0.0</td>\n",
       "    </tr>\n",
       "    <tr>\n",
       "      <th>2023-08-25 00:00:00-03:00</th>\n",
       "      <td>26.151678</td>\n",
       "      <td>26.151678</td>\n",
       "      <td>25.724077</td>\n",
       "      <td>25.996187</td>\n",
       "      <td>1861600</td>\n",
       "      <td>0.0</td>\n",
       "      <td>0.0</td>\n",
       "    </tr>\n",
       "    <tr>\n",
       "      <th>...</th>\n",
       "      <td>...</td>\n",
       "      <td>...</td>\n",
       "      <td>...</td>\n",
       "      <td>...</td>\n",
       "      <td>...</td>\n",
       "      <td>...</td>\n",
       "      <td>...</td>\n",
       "    </tr>\n",
       "    <tr>\n",
       "      <th>2024-02-09 00:00:00-03:00</th>\n",
       "      <td>28.340000</td>\n",
       "      <td>28.709999</td>\n",
       "      <td>28.340000</td>\n",
       "      <td>28.530001</td>\n",
       "      <td>1104900</td>\n",
       "      <td>0.0</td>\n",
       "      <td>0.0</td>\n",
       "    </tr>\n",
       "    <tr>\n",
       "      <th>2024-02-14 00:00:00-03:00</th>\n",
       "      <td>28.389999</td>\n",
       "      <td>28.629999</td>\n",
       "      <td>28.150000</td>\n",
       "      <td>28.240000</td>\n",
       "      <td>1044900</td>\n",
       "      <td>0.0</td>\n",
       "      <td>0.0</td>\n",
       "    </tr>\n",
       "    <tr>\n",
       "      <th>2024-02-15 00:00:00-03:00</th>\n",
       "      <td>28.440001</td>\n",
       "      <td>28.620001</td>\n",
       "      <td>28.270000</td>\n",
       "      <td>28.469999</td>\n",
       "      <td>2071100</td>\n",
       "      <td>0.0</td>\n",
       "      <td>0.0</td>\n",
       "    </tr>\n",
       "    <tr>\n",
       "      <th>2024-02-16 00:00:00-03:00</th>\n",
       "      <td>28.480000</td>\n",
       "      <td>29.230000</td>\n",
       "      <td>28.480000</td>\n",
       "      <td>29.049999</td>\n",
       "      <td>1646200</td>\n",
       "      <td>0.0</td>\n",
       "      <td>0.0</td>\n",
       "    </tr>\n",
       "    <tr>\n",
       "      <th>2024-02-19 00:00:00-03:00</th>\n",
       "      <td>29.350000</td>\n",
       "      <td>29.360001</td>\n",
       "      <td>28.830000</td>\n",
       "      <td>29.190001</td>\n",
       "      <td>512800</td>\n",
       "      <td>0.0</td>\n",
       "      <td>0.0</td>\n",
       "    </tr>\n",
       "  </tbody>\n",
       "</table>\n",
       "<p>122 rows × 7 columns</p>\n",
       "</div>"
      ],
      "text/plain": [
       "                                Open       High        Low      Close  \\\n",
       "Date                                                                    \n",
       "2023-08-21 00:00:00-03:00  25.772671  25.772671  25.471405  25.578306   \n",
       "2023-08-22 00:00:00-03:00  25.665769  25.957315  25.636614  25.899006   \n",
       "2023-08-23 00:00:00-03:00  25.947599  26.258581  25.830979  26.190554   \n",
       "2023-08-24 00:00:00-03:00  26.268298  26.268298  25.879568  26.025343   \n",
       "2023-08-25 00:00:00-03:00  26.151678  26.151678  25.724077  25.996187   \n",
       "...                              ...        ...        ...        ...   \n",
       "2024-02-09 00:00:00-03:00  28.340000  28.709999  28.340000  28.530001   \n",
       "2024-02-14 00:00:00-03:00  28.389999  28.629999  28.150000  28.240000   \n",
       "2024-02-15 00:00:00-03:00  28.440001  28.620001  28.270000  28.469999   \n",
       "2024-02-16 00:00:00-03:00  28.480000  29.230000  28.480000  29.049999   \n",
       "2024-02-19 00:00:00-03:00  29.350000  29.360001  28.830000  29.190001   \n",
       "\n",
       "                            Volume  Dividends  Stock Splits  \n",
       "Date                                                         \n",
       "2023-08-21 00:00:00-03:00  1290400        0.0           0.0  \n",
       "2023-08-22 00:00:00-03:00  1048100        0.0           0.0  \n",
       "2023-08-23 00:00:00-03:00  1322500        0.0           0.0  \n",
       "2023-08-24 00:00:00-03:00  1096000        0.0           0.0  \n",
       "2023-08-25 00:00:00-03:00  1861600        0.0           0.0  \n",
       "...                            ...        ...           ...  \n",
       "2024-02-09 00:00:00-03:00  1104900        0.0           0.0  \n",
       "2024-02-14 00:00:00-03:00  1044900        0.0           0.0  \n",
       "2024-02-15 00:00:00-03:00  2071100        0.0           0.0  \n",
       "2024-02-16 00:00:00-03:00  1646200        0.0           0.0  \n",
       "2024-02-19 00:00:00-03:00   512800        0.0           0.0  \n",
       "\n",
       "[122 rows x 7 columns]"
      ]
     },
     "execution_count": 26,
     "metadata": {},
     "output_type": "execute_result"
    }
   ],
   "source": [
    "# Banco Santander\n",
    "ticker = \"SANB11.SA\"\n",
    "dados = yfinance.Ticker(ticker)\n",
    "tabela3 = dados.history(\"6mo\") # 6 meses\n",
    "tabela3"
   ]
  },
  {
   "cell_type": "code",
   "execution_count": 27,
   "metadata": {},
   "outputs": [
    {
     "data": {
      "text/plain": [
       "<Axes: xlabel='Date'>"
      ]
     },
     "execution_count": 27,
     "metadata": {},
     "output_type": "execute_result"
    },
    {
     "data": {
      "image/png": "[encoded data removed]",
      "text/plain": [
       "<Figure size 640x480 with 1 Axes>"
      ]
     },
     "metadata": {},
     "output_type": "display_data"
    }
   ],
   "source": [
    "fechamento3 = tabela3.Close\n",
    "fechamento3.plot()"
   ]
  },
  {
   "cell_type": "markdown",
   "metadata": {},
   "source": [
    "## cotação máxima: \n",
    "## votação mínima: \n",
    "## cotação atual:"
   ]
  },
  {
   "cell_type": "code",
   "execution_count": 28,
   "metadata": {},
   "outputs": [
    {
     "name": "stdout",
     "output_type": "stream",
     "text": [
      "31.869274139404297\n",
      "24.84943962097168\n",
      "29.190000534057617\n"
     ]
    },
    {
     "name": "stderr",
     "output_type": "stream",
     "text": [
      "C:\\Users\\Usuário\\AppData\\Local\\Temp\\ipykernel_13820\\2829623943.py:3: FutureWarning: Series.__getitem__ treating keys as positions is deprecated. In a future version, integer keys will always be treated as labels (consistent with DataFrame behavior). To access a value by position, use `ser.iloc[pos]`\n",
      "  atual = fechamento3[-1]\n"
     ]
    }
   ],
   "source": [
    "maxima = fechamento3.max()\n",
    "minima = fechamento3.min()\n",
    "atual = fechamento3[-1]\n",
    "print(maxima)\n",
    "print(minima)\n",
    "print(atual)"
   ]
  },
  {
   "cell_type": "markdown",
   "metadata": {},
   "source": [
    "# Coloque a Codigo de uma ação da empresa que quiser.\n"
   ]
  },
  {
   "cell_type": "code",
   "execution_count": 7,
   "metadata": {},
   "outputs": [
    {
     "data": {
      "text/html": [
       "<div>\n",
       "<style scoped>\n",
       "    .dataframe tbody tr th:only-of-type {\n",
       "        vertical-align: middle;\n",
       "    }\n",
       "\n",
       "    .dataframe tbody tr th {\n",
       "        vertical-align: top;\n",
       "    }\n",
       "\n",
       "    .dataframe thead th {\n",
       "        text-align: right;\n",
       "    }\n",
       "</style>\n",
       "<table border=\"1\" class=\"dataframe\">\n",
       "  <thead>\n",
       "    <tr style=\"text-align: right;\">\n",
       "      <th></th>\n",
       "      <th>Open</th>\n",
       "      <th>High</th>\n",
       "      <th>Low</th>\n",
       "      <th>Close</th>\n",
       "      <th>Volume</th>\n",
       "      <th>Dividends</th>\n",
       "      <th>Stock Splits</th>\n",
       "    </tr>\n",
       "    <tr>\n",
       "      <th>Date</th>\n",
       "      <th></th>\n",
       "      <th></th>\n",
       "      <th></th>\n",
       "      <th></th>\n",
       "      <th></th>\n",
       "      <th></th>\n",
       "      <th></th>\n",
       "    </tr>\n",
       "  </thead>\n",
       "  <tbody>\n",
       "    <tr>\n",
       "      <th>2023-08-21 00:00:00-03:00</th>\n",
       "      <td>29.406154</td>\n",
       "      <td>29.712273</td>\n",
       "      <td>28.728976</td>\n",
       "      <td>29.035097</td>\n",
       "      <td>42236900</td>\n",
       "      <td>0.000000</td>\n",
       "      <td>0.0</td>\n",
       "    </tr>\n",
       "    <tr>\n",
       "      <th>2023-08-22 00:00:00-03:00</th>\n",
       "      <td>29.371477</td>\n",
       "      <td>29.477407</td>\n",
       "      <td>29.121097</td>\n",
       "      <td>29.477407</td>\n",
       "      <td>31372200</td>\n",
       "      <td>1.149304</td>\n",
       "      <td>0.0</td>\n",
       "    </tr>\n",
       "    <tr>\n",
       "      <th>2023-08-23 00:00:00-03:00</th>\n",
       "      <td>30.045576</td>\n",
       "      <td>31.047096</td>\n",
       "      <td>29.939646</td>\n",
       "      <td>31.047096</td>\n",
       "      <td>95507400</td>\n",
       "      <td>0.000000</td>\n",
       "      <td>0.0</td>\n",
       "    </tr>\n",
       "    <tr>\n",
       "      <th>2023-08-24 00:00:00-03:00</th>\n",
       "      <td>31.075985</td>\n",
       "      <td>31.509335</td>\n",
       "      <td>30.661895</td>\n",
       "      <td>30.998943</td>\n",
       "      <td>49332300</td>\n",
       "      <td>0.000000</td>\n",
       "      <td>0.0</td>\n",
       "    </tr>\n",
       "    <tr>\n",
       "      <th>2023-08-25 00:00:00-03:00</th>\n",
       "      <td>31.181916</td>\n",
       "      <td>31.268586</td>\n",
       "      <td>30.623375</td>\n",
       "      <td>30.787085</td>\n",
       "      <td>34079000</td>\n",
       "      <td>0.000000</td>\n",
       "      <td>0.0</td>\n",
       "    </tr>\n",
       "    <tr>\n",
       "      <th>...</th>\n",
       "      <td>...</td>\n",
       "      <td>...</td>\n",
       "      <td>...</td>\n",
       "      <td>...</td>\n",
       "      <td>...</td>\n",
       "      <td>...</td>\n",
       "      <td>...</td>\n",
       "    </tr>\n",
       "    <tr>\n",
       "      <th>2024-02-09 00:00:00-03:00</th>\n",
       "      <td>42.139999</td>\n",
       "      <td>42.330002</td>\n",
       "      <td>41.299999</td>\n",
       "      <td>41.299999</td>\n",
       "      <td>30388000</td>\n",
       "      <td>0.000000</td>\n",
       "      <td>0.0</td>\n",
       "    </tr>\n",
       "    <tr>\n",
       "      <th>2024-02-14 00:00:00-03:00</th>\n",
       "      <td>41.099998</td>\n",
       "      <td>41.400002</td>\n",
       "      <td>40.860001</td>\n",
       "      <td>40.990002</td>\n",
       "      <td>18315300</td>\n",
       "      <td>0.000000</td>\n",
       "      <td>0.0</td>\n",
       "    </tr>\n",
       "    <tr>\n",
       "      <th>2024-02-15 00:00:00-03:00</th>\n",
       "      <td>41.009998</td>\n",
       "      <td>42.299999</td>\n",
       "      <td>40.849998</td>\n",
       "      <td>42.299999</td>\n",
       "      <td>33246400</td>\n",
       "      <td>0.000000</td>\n",
       "      <td>0.0</td>\n",
       "    </tr>\n",
       "    <tr>\n",
       "      <th>2024-02-16 00:00:00-03:00</th>\n",
       "      <td>42.090000</td>\n",
       "      <td>42.889999</td>\n",
       "      <td>42.060001</td>\n",
       "      <td>42.689999</td>\n",
       "      <td>37268900</td>\n",
       "      <td>0.000000</td>\n",
       "      <td>0.0</td>\n",
       "    </tr>\n",
       "    <tr>\n",
       "      <th>2024-02-19 00:00:00-03:00</th>\n",
       "      <td>42.759998</td>\n",
       "      <td>42.939999</td>\n",
       "      <td>42.560001</td>\n",
       "      <td>42.880001</td>\n",
       "      <td>7226400</td>\n",
       "      <td>0.000000</td>\n",
       "      <td>0.0</td>\n",
       "    </tr>\n",
       "  </tbody>\n",
       "</table>\n",
       "<p>122 rows × 7 columns</p>\n",
       "</div>"
      ],
      "text/plain": [
       "                                Open       High        Low      Close  \\\n",
       "Date                                                                    \n",
       "2023-08-21 00:00:00-03:00  29.406154  29.712273  28.728976  29.035097   \n",
       "2023-08-22 00:00:00-03:00  29.371477  29.477407  29.121097  29.477407   \n",
       "2023-08-23 00:00:00-03:00  30.045576  31.047096  29.939646  31.047096   \n",
       "2023-08-24 00:00:00-03:00  31.075985  31.509335  30.661895  30.998943   \n",
       "2023-08-25 00:00:00-03:00  31.181916  31.268586  30.623375  30.787085   \n",
       "...                              ...        ...        ...        ...   \n",
       "2024-02-09 00:00:00-03:00  42.139999  42.330002  41.299999  41.299999   \n",
       "2024-02-14 00:00:00-03:00  41.099998  41.400002  40.860001  40.990002   \n",
       "2024-02-15 00:00:00-03:00  41.009998  42.299999  40.849998  42.299999   \n",
       "2024-02-16 00:00:00-03:00  42.090000  42.889999  42.060001  42.689999   \n",
       "2024-02-19 00:00:00-03:00  42.759998  42.939999  42.560001  42.880001   \n",
       "\n",
       "                             Volume  Dividends  Stock Splits  \n",
       "Date                                                          \n",
       "2023-08-21 00:00:00-03:00  42236900   0.000000           0.0  \n",
       "2023-08-22 00:00:00-03:00  31372200   1.149304           0.0  \n",
       "2023-08-23 00:00:00-03:00  95507400   0.000000           0.0  \n",
       "2023-08-24 00:00:00-03:00  49332300   0.000000           0.0  \n",
       "2023-08-25 00:00:00-03:00  34079000   0.000000           0.0  \n",
       "...                             ...        ...           ...  \n",
       "2024-02-09 00:00:00-03:00  30388000   0.000000           0.0  \n",
       "2024-02-14 00:00:00-03:00  18315300   0.000000           0.0  \n",
       "2024-02-15 00:00:00-03:00  33246400   0.000000           0.0  \n",
       "2024-02-16 00:00:00-03:00  37268900   0.000000           0.0  \n",
       "2024-02-19 00:00:00-03:00   7226400   0.000000           0.0  \n",
       "\n",
       "[122 rows x 7 columns]"
      ]
     },
     "execution_count": 7,
     "metadata": {},
     "output_type": "execute_result"
    }
   ],
   "source": [
    "ticker = input(\"Digite aqui o codigo da ação de uma empresa: \")\n",
    "dados = yfinance.Ticker(ticker)\n",
    "tabela4 = dados.history(\"6mo\") \n",
    "tabela4"
   ]
  },
  {
   "cell_type": "code",
   "execution_count": 8,
   "metadata": {},
   "outputs": [
    {
     "data": {
      "text/plain": [
       "<Axes: xlabel='Date'>"
      ]
     },
     "execution_count": 8,
     "metadata": {},
     "output_type": "execute_result"
    },
    {
     "data": {
      "image/png": "[encoded data removed]",
      "text/plain": [
       "<Figure size 640x480 with 1 Axes>"
      ]
     },
     "metadata": {},
     "output_type": "display_data"
    }
   ],
   "source": [
    "fechamento4 = tabela4.Close\n",
    "fechamento4.plot()"
   ]
  }
 ],
 "metadata": {
  "kernelspec": {
   "display_name": "Python 3",
   "language": "python",
   "name": "python3"
  },
  "language_info": {
   "codemirror_mode": {
    "name": "ipython",
    "version": 3
   },
   "file_extension": ".py",
   "mimetype": "text/x-python",
   "name": "python",
   "nbconvert_exporter": "python",
   "pygments_lexer": "ipython3",
   "version": "3.12.2"
  }
 },
 "nbformat": 4,
 "nbformat_minor": 2
}
