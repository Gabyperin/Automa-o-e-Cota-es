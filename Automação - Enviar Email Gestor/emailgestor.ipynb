{
 "cells": [
  {
   "cell_type": "markdown",
   "metadata": {},
   "source": [
    "## Processo de enviar um e-mail passo a passo:\n",
    "Processo de enviar um e-mail passo a passo:<br>\n",
    "abrir uma nova aba no navegador (clicar em + ou CTRL + T)<br>\n",
    "digitar o endereço do gmail (www.gmail.com) e digitar ENTER<br>\n",
    "clicar em Escrever<br>\n",
    "digitar o endereço de e-mail do destinatário<br>\n",
    "mudar para o campo Assunto (clicar no campo ou digitar tab)<br>\n",
    "digitar o Assunto<br>\n",
    "mudar para campo principal do e-mail (clicar no campo ou digitar tab)<br>\n",
    "escrever a mensagem<br>\n",
    "clicar em Enviar<br>"
   ]
  },
  {
   "cell_type": "code",
   "execution_count": 2,
   "metadata": {},
   "outputs": [],
   "source": [
    "#!pip install pyautogui\n",
    "#!pip install pyperclip\n"
   ]
  },
  {
   "cell_type": "code",
   "execution_count": 3,
   "metadata": {},
   "outputs": [
    {
     "data": {
      "text/html": [
       "<div>\n",
       "<style scoped>\n",
       "    .dataframe tbody tr th:only-of-type {\n",
       "        vertical-align: middle;\n",
       "    }\n",
       "\n",
       "    .dataframe tbody tr th {\n",
       "        vertical-align: top;\n",
       "    }\n",
       "\n",
       "    .dataframe thead th {\n",
       "        text-align: right;\n",
       "    }\n",
       "</style>\n",
       "<table border=\"1\" class=\"dataframe\">\n",
       "  <thead>\n",
       "    <tr style=\"text-align: right;\">\n",
       "      <th></th>\n",
       "      <th>Open</th>\n",
       "      <th>High</th>\n",
       "      <th>Low</th>\n",
       "      <th>Close</th>\n",
       "      <th>Volume</th>\n",
       "      <th>Dividends</th>\n",
       "      <th>Stock Splits</th>\n",
       "    </tr>\n",
       "    <tr>\n",
       "      <th>Date</th>\n",
       "      <th></th>\n",
       "      <th></th>\n",
       "      <th></th>\n",
       "      <th></th>\n",
       "      <th></th>\n",
       "      <th></th>\n",
       "      <th></th>\n",
       "    </tr>\n",
       "  </thead>\n",
       "  <tbody>\n",
       "    <tr>\n",
       "      <th>2023-08-21 00:00:00-03:00</th>\n",
       "      <td>12.806763</td>\n",
       "      <td>12.864582</td>\n",
       "      <td>12.739309</td>\n",
       "      <td>12.826036</td>\n",
       "      <td>3923900</td>\n",
       "      <td>0.0</td>\n",
       "      <td>0.0</td>\n",
       "    </tr>\n",
       "    <tr>\n",
       "      <th>2023-08-22 00:00:00-03:00</th>\n",
       "      <td>12.845308</td>\n",
       "      <td>12.932036</td>\n",
       "      <td>12.797126</td>\n",
       "      <td>12.912763</td>\n",
       "      <td>4969600</td>\n",
       "      <td>0.0</td>\n",
       "      <td>0.0</td>\n",
       "    </tr>\n",
       "    <tr>\n",
       "      <th>2023-08-23 00:00:00-03:00</th>\n",
       "      <td>12.864582</td>\n",
       "      <td>13.057310</td>\n",
       "      <td>12.864582</td>\n",
       "      <td>13.057310</td>\n",
       "      <td>6252000</td>\n",
       "      <td>0.0</td>\n",
       "      <td>0.0</td>\n",
       "    </tr>\n",
       "    <tr>\n",
       "      <th>2023-08-24 00:00:00-03:00</th>\n",
       "      <td>13.018764</td>\n",
       "      <td>13.028401</td>\n",
       "      <td>12.758581</td>\n",
       "      <td>12.797127</td>\n",
       "      <td>5801600</td>\n",
       "      <td>0.0</td>\n",
       "      <td>0.0</td>\n",
       "    </tr>\n",
       "    <tr>\n",
       "      <th>2023-08-25 00:00:00-03:00</th>\n",
       "      <td>12.806763</td>\n",
       "      <td>12.854946</td>\n",
       "      <td>12.604399</td>\n",
       "      <td>12.729672</td>\n",
       "      <td>3065400</td>\n",
       "      <td>0.0</td>\n",
       "      <td>0.0</td>\n",
       "    </tr>\n",
       "    <tr>\n",
       "      <th>...</th>\n",
       "      <td>...</td>\n",
       "      <td>...</td>\n",
       "      <td>...</td>\n",
       "      <td>...</td>\n",
       "      <td>...</td>\n",
       "      <td>...</td>\n",
       "      <td>...</td>\n",
       "    </tr>\n",
       "    <tr>\n",
       "      <th>2024-02-09 00:00:00-03:00</th>\n",
       "      <td>12.630000</td>\n",
       "      <td>12.640000</td>\n",
       "      <td>12.180000</td>\n",
       "      <td>12.400000</td>\n",
       "      <td>15144900</td>\n",
       "      <td>0.0</td>\n",
       "      <td>0.0</td>\n",
       "    </tr>\n",
       "    <tr>\n",
       "      <th>2024-02-14 00:00:00-03:00</th>\n",
       "      <td>12.370000</td>\n",
       "      <td>12.430000</td>\n",
       "      <td>12.090000</td>\n",
       "      <td>12.240000</td>\n",
       "      <td>15057600</td>\n",
       "      <td>0.0</td>\n",
       "      <td>0.0</td>\n",
       "    </tr>\n",
       "    <tr>\n",
       "      <th>2024-02-15 00:00:00-03:00</th>\n",
       "      <td>12.300000</td>\n",
       "      <td>12.440000</td>\n",
       "      <td>12.170000</td>\n",
       "      <td>12.220000</td>\n",
       "      <td>17881300</td>\n",
       "      <td>0.0</td>\n",
       "      <td>0.0</td>\n",
       "    </tr>\n",
       "    <tr>\n",
       "      <th>2024-02-16 00:00:00-03:00</th>\n",
       "      <td>12.300000</td>\n",
       "      <td>12.350000</td>\n",
       "      <td>12.120000</td>\n",
       "      <td>12.280000</td>\n",
       "      <td>11881800</td>\n",
       "      <td>0.0</td>\n",
       "      <td>0.0</td>\n",
       "    </tr>\n",
       "    <tr>\n",
       "      <th>2024-02-19 00:00:00-03:00</th>\n",
       "      <td>12.300000</td>\n",
       "      <td>12.380000</td>\n",
       "      <td>12.170000</td>\n",
       "      <td>12.320000</td>\n",
       "      <td>5851300</td>\n",
       "      <td>0.0</td>\n",
       "      <td>0.0</td>\n",
       "    </tr>\n",
       "  </tbody>\n",
       "</table>\n",
       "<p>122 rows × 7 columns</p>\n",
       "</div>"
      ],
      "text/plain": [
       "                                Open       High        Low      Close  \\\n",
       "Date                                                                    \n",
       "2023-08-21 00:00:00-03:00  12.806763  12.864582  12.739309  12.826036   \n",
       "2023-08-22 00:00:00-03:00  12.845308  12.932036  12.797126  12.912763   \n",
       "2023-08-23 00:00:00-03:00  12.864582  13.057310  12.864582  13.057310   \n",
       "2023-08-24 00:00:00-03:00  13.018764  13.028401  12.758581  12.797127   \n",
       "2023-08-25 00:00:00-03:00  12.806763  12.854946  12.604399  12.729672   \n",
       "...                              ...        ...        ...        ...   \n",
       "2024-02-09 00:00:00-03:00  12.630000  12.640000  12.180000  12.400000   \n",
       "2024-02-14 00:00:00-03:00  12.370000  12.430000  12.090000  12.240000   \n",
       "2024-02-15 00:00:00-03:00  12.300000  12.440000  12.170000  12.220000   \n",
       "2024-02-16 00:00:00-03:00  12.300000  12.350000  12.120000  12.280000   \n",
       "2024-02-19 00:00:00-03:00  12.300000  12.380000  12.170000  12.320000   \n",
       "\n",
       "                             Volume  Dividends  Stock Splits  \n",
       "Date                                                          \n",
       "2023-08-21 00:00:00-03:00   3923900        0.0           0.0  \n",
       "2023-08-22 00:00:00-03:00   4969600        0.0           0.0  \n",
       "2023-08-23 00:00:00-03:00   6252000        0.0           0.0  \n",
       "2023-08-24 00:00:00-03:00   5801600        0.0           0.0  \n",
       "2023-08-25 00:00:00-03:00   3065400        0.0           0.0  \n",
       "...                             ...        ...           ...  \n",
       "2024-02-09 00:00:00-03:00  15144900        0.0           0.0  \n",
       "2024-02-14 00:00:00-03:00  15057600        0.0           0.0  \n",
       "2024-02-15 00:00:00-03:00  17881300        0.0           0.0  \n",
       "2024-02-16 00:00:00-03:00  11881800        0.0           0.0  \n",
       "2024-02-19 00:00:00-03:00   5851300        0.0           0.0  \n",
       "\n",
       "[122 rows x 7 columns]"
      ]
     },
     "execution_count": 3,
     "metadata": {},
     "output_type": "execute_result"
    }
   ],
   "source": [
    "import yfinance\n",
    "\n",
    "ticker = \"BBDC3.SA\"\n",
    "dados = yfinance.Ticker(ticker)\n",
    "tabela = dados.history(\"6mo\")\n",
    "tabela"
   ]
  },
  {
   "cell_type": "code",
   "execution_count": 4,
   "metadata": {},
   "outputs": [
    {
     "data": {
      "text/plain": [
       "<Axes: xlabel='Date'>"
      ]
     },
     "execution_count": 4,
     "metadata": {},
     "output_type": "execute_result"
    },
    {
     "data": {
      "image/png": "[encoded data removed]",
      "text/plain": [
       "<Figure size 640x480 with 1 Axes>"
      ]
     },
     "metadata": {},
     "output_type": "display_data"
    }
   ],
   "source": [
    "fechamento = tabela.Close\n",
    "fechamento.plot()"
   ]
  },
  {
   "cell_type": "code",
   "execution_count": 9,
   "metadata": {},
   "outputs": [
    {
     "name": "stdout",
     "output_type": "stream",
     "text": [
      "15.24339485168457\n",
      "11.839310646057129\n",
      "12.319999694824219\n"
     ]
    },
    {
     "name": "stderr",
     "output_type": "stream",
     "text": [
      "C:\\Users\\Usuário\\AppData\\Local\\Temp\\ipykernel_6592\\1687702422.py:3: FutureWarning: Series.__getitem__ treating keys as positions is deprecated. In a future version, integer keys will always be treated as labels (consistent with DataFrame behavior). To access a value by position, use `ser.iloc[pos]`\n",
      "  atual = fechamento[-1]\n"
     ]
    }
   ],
   "source": [
    "maxima = fechamento.max()\n",
    "minima = fechamento.min()\n",
    "atual = fechamento[-1]\n",
    "print(maxima)\n",
    "print(minima)\n",
    "print(atual)"
   ]
  },
  {
   "cell_type": "code",
   "execution_count": 6,
   "metadata": {},
   "outputs": [],
   "source": [
    "import pyautogui\n",
    "import pyperclip\n"
   ]
  },
  {
   "cell_type": "code",
   "execution_count": 7,
   "metadata": {},
   "outputs": [
    {
     "name": "stdout",
     "output_type": "stream",
     "text": [
      "E-mail enviado com sucesso!\n"
     ]
    }
   ],
   "source": [
    "pyautogui.PAUSE = 2.5\n",
    "\n",
    "pyautogui.press(\"win\")\n",
    "pyautogui.write(\"firefox\")\n",
    "pyautogui.press(\"enter\")\n",
    "\n",
    "pyperclip.copy(\"www.gmail.com\")\n",
    "pyautogui.hotkey(\"ctrl\", \"v\")\n",
    "pyautogui.press(\"enter\")\n",
    "pyautogui.click(x=87, y=189)\n",
    "\n",
    "pyperclip.copy(\"gestor.568@gmail.com\")\n",
    "pyautogui.hotkey(\"ctrl\", \"v\")\n",
    "pyautogui.press(\"tab\")\n",
    "\n",
    "pyperclip.copy(\"Cotações e Finanças\")\n",
    "pyautogui.hotkey(\"ctrl\", \"v\")\n",
    "pyautogui.press(\"tab\")\n",
    "\n",
    "mensagem = f\"\"\"\n",
    "Bom dia,\n",
    "Prezado Gestor,\n",
    "Segue abaixo as análises da ação {ticker} dos últimos seis meses:\n",
    "Cotação máxima: R${round(maxima,2)}\n",
    "Cotação mínima: R${round(minima,2)}\n",
    "Cotação atual: R${round(atual,2)}\n",
    "\n",
    "Qual quer duvida estou a disposição :)\n",
    "Atenciosamente,\n",
    "Gabriela P.\n",
    "\"\"\"\n",
    "pyperclip.copy(mensagem)\n",
    "pyautogui.hotkey(\"ctrl\", \"v\")\n",
    "# para enviar \n",
    "pyautogui.click(x=528, y=708)\n",
    "pyautogui.hotkey(\"ctrl\", \"f4\")\n",
    "print('Seu E-mail foi enviado com sucesso!')"
   ]
  },
  {
   "cell_type": "markdown",
   "metadata": {},
   "source": [
    "## pega a posição do Mouse"
   ]
  },
  {
   "cell_type": "code",
   "execution_count": 8,
   "metadata": {},
   "outputs": [
    {
     "data": {
      "text/plain": [
       "Point(x=528, y=708)"
      ]
     },
     "execution_count": 8,
     "metadata": {},
     "output_type": "execute_result"
    }
   ],
   "source": [
    "import time \n",
    "\n",
    "time.sleep(5)\n",
    "pyautogui.position()"
   ]
  }
 ],
 "metadata": {
  "kernelspec": {
   "display_name": "Python 3",
   "language": "python",
   "name": "python3"
  },
  "language_info": {
   "codemirror_mode": {
    "name": "ipython",
    "version": 3
   },
   "file_extension": ".py",
   "mimetype": "text/x-python",
   "name": "python",
   "nbconvert_exporter": "python",
   "pygments_lexer": "ipython3",
   "version": "3.12.2"
  }
 },
 "nbformat": 4,
 "nbformat_minor": 2
}
